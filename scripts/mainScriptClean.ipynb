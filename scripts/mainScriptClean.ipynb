{
 "cells": [
  {
   "cell_type": "code",
   "execution_count": 1,
   "id": "breathing-travel",
   "metadata": {},
   "outputs": [],
   "source": [
    "#mainScriptClean"
   ]
  },
  {
   "cell_type": "code",
   "execution_count": 2,
   "id": "demanding-professional",
   "metadata": {
    "scrolled": true
   },
   "outputs": [
    {
     "name": "stdout",
     "output_type": "stream",
     "text": [
      "L : 500\n",
      "dt : 2\n",
      "T : 0.3\n",
      "tFn : 50\n",
      "NY : 1\n",
      "Nbb : 49999\n",
      "pSampleType : 0\n",
      "UniPMax : 3.0\n",
      "pSampSig : 0.2\n",
      "MatrElems : 0\n",
      "qRGtype : 0\n",
      "ECut : 40\n",
      "prCut : 22\n",
      "NPts : 200\n",
      "ExportRates : True\n",
      "NXPart : 40\n",
      "NThreads : 14\n",
      "HydroMode : 0\n",
      "HPts : 20\n",
      "doRecom : 1\n",
      "doDisso : 1\n",
      "RGRrateOpt : 1\n",
      "Mb : 4.65\n",
      "M1S : 9.091\n",
      "M2S : 10.023\n",
      "E1S : 0.20925\n",
      "E2S : 0.723\n",
      "bsig : 0.01\n",
      "Ysig : 0.02\n",
      "alphaS : 0.3\n",
      "CF : 1.3333333333333333\n",
      "NC : 3\n",
      "gs : 0.75\n",
      "Ch : 0\n",
      "rateFile : bottom_rates_2d.tsv\n",
      "boop : gleep\n",
      "StateList : ['1S']\n",
      "ChannelList : ['RGA', 'RGR']\n"
     ]
    }
   ],
   "source": [
    "import numpy as np\n",
    "import sys\n",
    "import os\n",
    "import matplotlib.pyplot as plt\n",
    "\n",
    "\n",
    "sys.path.append('/home/jacob/projects/quonium/python')\n",
    "from config import colr\n",
    "from config import config\n",
    "from config import conOutput\n",
    "\n",
    "from core import box\n",
    "from mathFunc2 import doConfigCalc,calcClassExpec,calcRelExpec2\n",
    "\n",
    "col1, col2, col3 = '#EE2211', '#11CC22', '#1111EE'\n",
    "\n",
    "conf = config()\n",
    "#Set states and channels + Modify some param settings\n",
    "conf['StateList'] = ['1S']\n",
    "#conf['ChannelList'] = ['RGA','RGR','IDQ','IRQ','IDG','IRG']\n",
    "conf['ChannelList'] = ['RGA','RGR']\n",
    "#conf['Nbb'], conf['NY'] = 6249, 1 #Low\n",
    "conf['Nbb'], conf['NY'] = 49999, 1 #Med\n",
    "#conf['Nbb'], conf['NY'] = 399999, 1 #High\n",
    "#conf['L'], conf['NXPart'] = 250, 40 #Low\n",
    "conf['L'], conf['NXPart'] = 500, 40 #Med\n",
    "#conf['L'], conf['NXPart'] = 1000, 80 #High\n",
    "conf['NThreads'] = 14\n",
    "conf['dt'] = 2\n",
    "conf['tFn'] = 50\n",
    "#conf['doRecom'] = 0\n",
    "hbarc = 0.1973\n",
    "conf.echoParams()"
   ]
  },
  {
   "cell_type": "code",
   "execution_count": 3,
   "id": "following-curtis",
   "metadata": {},
   "outputs": [
    {
     "name": "stdout",
     "output_type": "stream",
     "text": [
      "Constants set\n",
      "RGA_rate1S set\n",
      "RGR_rateFv1S set\n"
     ]
    }
   ],
   "source": [
    "doConfigCalc(conf)"
   ]
  },
  {
   "cell_type": "code",
   "execution_count": 4,
   "id": "destroyed-smoke",
   "metadata": {},
   "outputs": [],
   "source": [
    "def runBox():\n",
    "    conOut = conOutput(LabelSpacing = [['t [GeV-1]',12,None],['Nhid/Ntot',24,None],['#D',4,(200,50,50)],['#R',4,(100,100,200)],['StepTime',12,None],['ExpTime',12,None]])\n",
    "    conOut.printHeader()\n",
    "    b = box(conf)\n",
    "    b.recLine()\n",
    "    for i in range(conf['tFn']):\n",
    "        b.step()\n",
    "        b.recLine()\n",
    "        dN = len(b.dissoEvents)\n",
    "        rN = len(b.recomEvents)\n",
    "        conOut.printLine([b.rec[-1][0], b.rec[-1][1], dN, rN, b.cl.getStepTime(), b.cl.getExpectTime()])\n",
    "    recA = np.array(b.rec) \n",
    "    return recA"
   ]
  },
  {
   "cell_type": "code",
   "execution_count": 5,
   "id": "grand-religion",
   "metadata": {},
   "outputs": [
    {
     "name": "stdout",
     "output_type": "stream",
     "text": [
      "t [GeV-1]    Nhid/Ntot                #D   #R   StepTime     ExpTime     \n",
      "=========================================================================\n",
      "2.0          0.00018                  \u001b[38;2;200;50;50m0   \u001b[0m \u001b[38;2;100;100;200m8   \u001b[0m 00:00:03.55  00:02:54.15 \n",
      "4.0          0.00028                  \u001b[38;2;200;50;50m0   \u001b[0m \u001b[38;2;100;100;200m5   \u001b[0m 00:00:03.81  00:02:56.78 \n",
      "6.0          0.00048                  \u001b[38;2;200;50;50m1   \u001b[0m \u001b[38;2;100;100;200m11  \u001b[0m 00:00:03.87  00:02:56.07 \n",
      "8.0          0.00064                  \u001b[38;2;200;50;50m0   \u001b[0m \u001b[38;2;100;100;200m8   \u001b[0m 00:00:03.79  00:02:52.94 \n",
      "10.0         0.00078                  \u001b[38;2;200;50;50m3   \u001b[0m \u001b[38;2;100;100;200m10  \u001b[0m 00:00:03.90  00:02:50.47 \n",
      "12.0         0.00084                  \u001b[38;2;200;50;50m3   \u001b[0m \u001b[38;2;100;100;200m6   \u001b[0m 00:00:03.79  00:02:46.72 \n",
      "14.0         0.00098                  \u001b[38;2;200;50;50m4   \u001b[0m \u001b[38;2;100;100;200m11  \u001b[0m 00:00:03.81  00:02:43.09 \n",
      "16.0         0.00104                  \u001b[38;2;200;50;50m2   \u001b[0m \u001b[38;2;100;100;200m5   \u001b[0m 00:00:03.88  00:02:39.76 \n",
      "18.0         0.00108                  \u001b[38;2;200;50;50m5   \u001b[0m \u001b[38;2;100;100;200m7   \u001b[0m 00:00:03.83  00:02:36.09 \n",
      "20.0         0.00108                  \u001b[38;2;200;50;50m5   \u001b[0m \u001b[38;2;100;100;200m5   \u001b[0m 00:00:03.92  00:02:32.76 \n",
      "22.0         0.00104                  \u001b[38;2;200;50;50m7   \u001b[0m \u001b[38;2;100;100;200m5   \u001b[0m 00:00:03.82  00:02:28.95 \n",
      "24.0         0.00118                  \u001b[38;2;200;50;50m2   \u001b[0m \u001b[38;2;100;100;200m9   \u001b[0m 00:00:04.01  00:02:25.74 \n",
      "26.0         0.00124                  \u001b[38;2;200;50;50m4   \u001b[0m \u001b[38;2;100;100;200m7   \u001b[0m 00:00:04.13  00:02:22.76 \n",
      "28.0         0.00134                  \u001b[38;2;200;50;50m4   \u001b[0m \u001b[38;2;100;100;200m9   \u001b[0m 00:00:03.88  00:02:18.97 \n",
      "30.0         0.00132                  \u001b[38;2;200;50;50m5   \u001b[0m \u001b[38;2;100;100;200m4   \u001b[0m 00:00:03.91  00:02:15.24 \n",
      "32.0         0.00146                  \u001b[38;2;200;50;50m1   \u001b[0m \u001b[38;2;100;100;200m8   \u001b[0m 00:00:03.80  00:02:11.26 \n",
      "34.0         0.00146                  \u001b[38;2;200;50;50m7   \u001b[0m \u001b[38;2;100;100;200m7   \u001b[0m 00:00:03.79  00:02:07.28 \n",
      "36.0         0.00144                  \u001b[38;2;200;50;50m5   \u001b[0m \u001b[38;2;100;100;200m4   \u001b[0m 00:00:03.91  00:02:03.53 \n",
      "38.0         0.00154                  \u001b[38;2;200;50;50m6   \u001b[0m \u001b[38;2;100;100;200m11  \u001b[0m 00:00:03.85  00:01:59.66 \n",
      "40.0         0.00158                  \u001b[38;2;200;50;50m6   \u001b[0m \u001b[38;2;100;100;200m8   \u001b[0m 00:00:03.74  00:01:55.63 \n",
      "42.0         0.0016                   \u001b[38;2;200;50;50m5   \u001b[0m \u001b[38;2;100;100;200m6   \u001b[0m 00:00:03.91  00:01:51.86 \n",
      "44.0         0.0017                   \u001b[38;2;200;50;50m3   \u001b[0m \u001b[38;2;100;100;200m8   \u001b[0m 00:00:03.92  00:01:48.09 \n",
      "46.0         0.00174                  \u001b[38;2;200;50;50m7   \u001b[0m \u001b[38;2;100;100;200m9   \u001b[0m 00:00:03.88  00:01:44.26 \n",
      "48.0         0.00174                  \u001b[38;2;200;50;50m7   \u001b[0m \u001b[38;2;100;100;200m7   \u001b[0m 00:00:03.88  00:01:40.41 \n",
      "50.0         0.00174                  \u001b[38;2;200;50;50m7   \u001b[0m \u001b[38;2;100;100;200m7   \u001b[0m 00:00:03.90  00:01:36.60 \n",
      "52.0         0.00178                  \u001b[38;2;200;50;50m8   \u001b[0m \u001b[38;2;100;100;200m10  \u001b[0m 00:00:03.88  00:01:32.75 \n",
      "54.0         0.0018                   \u001b[38;2;200;50;50m5   \u001b[0m \u001b[38;2;100;100;200m6   \u001b[0m 00:00:03.97  00:01:28.98 \n",
      "56.0         0.00182                  \u001b[38;2;200;50;50m5   \u001b[0m \u001b[38;2;100;100;200m6   \u001b[0m 00:00:03.89  00:01:25.13 \n",
      "58.0         0.00198                  \u001b[38;2;200;50;50m1   \u001b[0m \u001b[38;2;100;100;200m9   \u001b[0m 00:00:04.03  00:01:21.38 \n",
      "60.0         0.00186                  \u001b[38;2;200;50;50m9   \u001b[0m \u001b[38;2;100;100;200m3   \u001b[0m 00:00:03.99  00:01:17.58 \n",
      "62.0         0.00192                  \u001b[38;2;200;50;50m4   \u001b[0m \u001b[38;2;100;100;200m7   \u001b[0m 00:00:03.75  00:01:13.63 \n",
      "64.0         0.00196                  \u001b[38;2;200;50;50m3   \u001b[0m \u001b[38;2;100;100;200m5   \u001b[0m 00:00:03.93  00:01:09.79 \n",
      "66.0         0.00194                  \u001b[38;2;200;50;50m8   \u001b[0m \u001b[38;2;100;100;200m7   \u001b[0m 00:00:03.86  00:01:05.90 \n",
      "68.0         0.0019                   \u001b[38;2;200;50;50m9   \u001b[0m \u001b[38;2;100;100;200m7   \u001b[0m 00:00:03.83  00:01:02.01 \n",
      "70.0         0.0018                   \u001b[38;2;200;50;50m12  \u001b[0m \u001b[38;2;100;100;200m7   \u001b[0m 00:00:03.98  00:00:58.18 \n",
      "72.0         0.00186                  \u001b[38;2;200;50;50m5   \u001b[0m \u001b[38;2;100;100;200m8   \u001b[0m 00:00:03.79  00:00:54.27 \n",
      "74.0         0.00182                  \u001b[38;2;200;50;50m6   \u001b[0m \u001b[38;2;100;100;200m4   \u001b[0m 00:00:04.01  00:00:50.44 \n",
      "76.0         0.00176                  \u001b[38;2;200;50;50m6   \u001b[0m \u001b[38;2;100;100;200m3   \u001b[0m 00:00:03.99  00:00:46.59 \n",
      "78.0         0.00178                  \u001b[38;2;200;50;50m6   \u001b[0m \u001b[38;2;100;100;200m7   \u001b[0m 00:00:03.80  00:00:42.69 \n",
      "80.0         0.00176                  \u001b[38;2;200;50;50m8   \u001b[0m \u001b[38;2;100;100;200m7   \u001b[0m 00:00:03.92  00:00:38.82 \n",
      "82.0         0.0017                   \u001b[38;2;200;50;50m7   \u001b[0m \u001b[38;2;100;100;200m4   \u001b[0m 00:00:03.75  00:00:34.91 \n",
      "84.0         0.00178                  \u001b[38;2;200;50;50m4   \u001b[0m \u001b[38;2;100;100;200m8   \u001b[0m 00:00:03.87  00:00:31.03 \n",
      "86.0         0.00192                  \u001b[38;2;200;50;50m6   \u001b[0m \u001b[38;2;100;100;200m13  \u001b[0m 00:00:04.00  00:00:27.17 \n",
      "88.0         0.00196                  \u001b[38;2;200;50;50m5   \u001b[0m \u001b[38;2;100;100;200m7   \u001b[0m 00:00:03.97  00:00:23.30 \n",
      "90.0         0.00198                  \u001b[38;2;200;50;50m5   \u001b[0m \u001b[38;2;100;100;200m6   \u001b[0m 00:00:03.78  00:00:19.41 \n",
      "92.0         0.00194                  \u001b[38;2;200;50;50m6   \u001b[0m \u001b[38;2;100;100;200m4   \u001b[0m 00:00:03.95  00:00:15.53 \n",
      "94.0         0.00202                  \u001b[38;2;200;50;50m4   \u001b[0m \u001b[38;2;100;100;200m8   \u001b[0m 00:00:03.86  00:00:11.65 \n",
      "96.0         0.00196                  \u001b[38;2;200;50;50m8   \u001b[0m \u001b[38;2;100;100;200m5   \u001b[0m 00:00:04.03  00:00:07.77 \n",
      "98.0         0.00176                  \u001b[38;2;200;50;50m14  \u001b[0m \u001b[38;2;100;100;200m4   \u001b[0m 00:00:03.95  00:00:03.88 \n",
      "100.0        0.00194                  \u001b[38;2;200;50;50m3   \u001b[0m \u001b[38;2;100;100;200m12  \u001b[0m 00:00:03.98  00:00:00.00 \n"
     ]
    }
   ],
   "source": [
    "r = runBox()"
   ]
  },
  {
   "cell_type": "code",
   "execution_count": 6,
   "id": "alternative-soldier",
   "metadata": {},
   "outputs": [
    {
     "name": "stdout",
     "output_type": "stream",
     "text": [
      "nonrel-Nhid/Ntot: 0.001730484230463492\n",
      "rel-Nhid/Ntot: 0.0014666271038068232\n"
     ]
    }
   ],
   "source": [
    "classExp = calcClassExpec(conf)\n",
    "relExp = calcRelExpec2(conf)"
   ]
  },
  {
   "cell_type": "code",
   "execution_count": 7,
   "id": "toxic-times",
   "metadata": {},
   "outputs": [
    {
     "data": {
      "image/png": "[encoded data removed]",
      "text/plain": [
       "<Figure size 864x576 with 1 Axes>"
      ]
     },
     "metadata": {
      "needs_background": "light"
     },
     "output_type": "display_data"
    }
   ],
   "source": [
    "plt.figure(figsize=(12, 8))\n",
    "plt.plot(r[:,0],r[:,1],color='#2233BB',label='Box sim')\n",
    "plt.axhline(y=classExp, color='r', linestyle='--', label='Non-relativistic')\n",
    "plt.axhline(y=relExp, color='g', linestyle='--', label='Relativistic')\n",
    "plt.xlabel('τ [GeV]-1',fontsize=14)\n",
    "plt.ylabel('N_hid/N_tot',fontsize=14)\n",
    "plt.yscale('log')\n",
    "plt.legend()\n",
    "plt.show()\n",
    "\n",
    "# RG CHANNEL ONLY\n"
   ]
  },
  {
   "cell_type": "code",
   "execution_count": 9,
   "id": "outstanding-monitoring",
   "metadata": {},
   "outputs": [
    {
     "name": "stdout",
     "output_type": "stream",
     "text": [
      "Constants set\n",
      "RGA_rate1S set\n",
      "RGR_rateFv1S set\n",
      "IDQ_rate1S set\n",
      "IRQ_vInt1S set\n",
      "IRQ_rateFv1S set\n",
      "IDG_rate1S set\n",
      "IRG_vInt1S set\n",
      "IRG_rateFv1S set\n",
      "t [GeV-1]    Nhid/Ntot                #D   #R   StepTime     ExpTime     \n",
      "=========================================================================\n",
      "2.0          0.0002                   \u001b[38;2;200;50;50m1   \u001b[0m \u001b[38;2;100;100;200m10  \u001b[0m 00:00:04.45  00:03:38.19 \n",
      "4.0          0.00036                  \u001b[38;2;200;50;50m0   \u001b[0m \u001b[38;2;100;100;200m8   \u001b[0m 00:00:04.51  00:03:35.12 \n",
      "6.0          0.00034                  \u001b[38;2;200;50;50m6   \u001b[0m \u001b[38;2;100;100;200m5   \u001b[0m 00:00:04.51  00:03:31.16 \n",
      "8.0          0.00042                  \u001b[38;2;200;50;50m2   \u001b[0m \u001b[38;2;100;100;200m6   \u001b[0m 00:00:04.40  00:03:25.60 \n",
      "10.0         0.00058                  \u001b[38;2;200;50;50m2   \u001b[0m \u001b[38;2;100;100;200m10  \u001b[0m 00:00:04.69  00:03:23.17 \n",
      "12.0         0.00068                  \u001b[38;2;200;50;50m5   \u001b[0m \u001b[38;2;100;100;200m10  \u001b[0m 00:00:04.56  00:03:19.02 \n",
      "14.0         0.00076                  \u001b[38;2;200;50;50m4   \u001b[0m \u001b[38;2;100;100;200m8   \u001b[0m 00:00:04.63  00:03:15.19 \n",
      "16.0         0.00082                  \u001b[38;2;200;50;50m6   \u001b[0m \u001b[38;2;100;100;200m9   \u001b[0m 00:00:04.60  00:03:10.97 \n",
      "18.0         0.00086                  \u001b[38;2;200;50;50m7   \u001b[0m \u001b[38;2;100;100;200m9   \u001b[0m 00:00:04.85  00:03:07.81 \n",
      "20.0         0.00094                  \u001b[38;2;200;50;50m6   \u001b[0m \u001b[38;2;100;100;200m10  \u001b[0m 00:00:04.70  00:03:03.71 \n",
      "22.0         0.00102                  \u001b[38;2;200;50;50m5   \u001b[0m \u001b[38;2;100;100;200m9   \u001b[0m 00:00:04.58  00:02:59.10 \n",
      "24.0         0.00102                  \u001b[38;2;200;50;50m7   \u001b[0m \u001b[38;2;100;100;200m7   \u001b[0m 00:00:04.67  00:02:54.76 \n",
      "26.0         0.00104                  \u001b[38;2;200;50;50m5   \u001b[0m \u001b[38;2;100;100;200m6   \u001b[0m 00:00:04.68  00:02:50.41 \n",
      "28.0         0.0011                   \u001b[38;2;200;50;50m3   \u001b[0m \u001b[38;2;100;100;200m6   \u001b[0m 00:00:04.75  00:02:46.20 \n",
      "30.0         0.00108                  \u001b[38;2;200;50;50m7   \u001b[0m \u001b[38;2;100;100;200m6   \u001b[0m 00:00:04.53  00:02:41.40 \n",
      "32.0         0.00102                  \u001b[38;2;200;50;50m10  \u001b[0m \u001b[38;2;100;100;200m7   \u001b[0m 00:00:04.63  00:02:36.83 \n",
      "34.0         0.00104                  \u001b[38;2;200;50;50m7   \u001b[0m \u001b[38;2;100;100;200m8   \u001b[0m 00:00:04.77  00:02:32.53 \n",
      "36.0         0.00104                  \u001b[38;2;200;50;50m4   \u001b[0m \u001b[38;2;100;100;200m4   \u001b[0m 00:00:04.62  00:02:27.91 \n",
      "38.0         0.00108                  \u001b[38;2;200;50;50m7   \u001b[0m \u001b[38;2;100;100;200m9   \u001b[0m 00:00:04.62  00:02:23.30 \n",
      "40.0         0.00124                  \u001b[38;2;200;50;50m6   \u001b[0m \u001b[38;2;100;100;200m14  \u001b[0m 00:00:04.72  00:02:18.83 \n",
      "42.0         0.0013                   \u001b[38;2;200;50;50m8   \u001b[0m \u001b[38;2;100;100;200m11  \u001b[0m 00:00:04.85  00:02:14.51 \n",
      "44.0         0.00128                  \u001b[38;2;200;50;50m10  \u001b[0m \u001b[38;2;100;100;200m9   \u001b[0m 00:00:04.56  00:02:09.78 \n",
      "46.0         0.00122                  \u001b[38;2;200;50;50m8   \u001b[0m \u001b[38;2;100;100;200m5   \u001b[0m 00:00:04.49  00:02:04.98 \n",
      "48.0         0.00126                  \u001b[38;2;200;50;50m7   \u001b[0m \u001b[38;2;100;100;200m9   \u001b[0m 00:00:04.76  00:02:00.50 \n",
      "50.0         0.00132                  \u001b[38;2;200;50;50m6   \u001b[0m \u001b[38;2;100;100;200m9   \u001b[0m 00:00:04.64  00:01:55.87 \n",
      "52.0         0.00128                  \u001b[38;2;200;50;50m9   \u001b[0m \u001b[38;2;100;100;200m7   \u001b[0m 00:00:04.58  00:01:51.19 \n",
      "54.0         0.0013                   \u001b[38;2;200;50;50m7   \u001b[0m \u001b[38;2;100;100;200m8   \u001b[0m 00:00:04.47  00:01:46.42 \n",
      "56.0         0.0012                   \u001b[38;2;200;50;50m12  \u001b[0m \u001b[38;2;100;100;200m7   \u001b[0m 00:00:04.68  00:01:41.84 \n",
      "58.0         0.00128                  \u001b[38;2;200;50;50m8   \u001b[0m \u001b[38;2;100;100;200m12  \u001b[0m 00:00:04.68  00:01:37.26 \n",
      "60.0         0.00124                  \u001b[38;2;200;50;50m6   \u001b[0m \u001b[38;2;100;100;200m4   \u001b[0m 00:00:04.66  00:01:32.65 \n",
      "62.0         0.00116                  \u001b[38;2;200;50;50m10  \u001b[0m \u001b[38;2;100;100;200m6   \u001b[0m 00:00:04.54  00:01:27.96 \n",
      "64.0         0.00112                  \u001b[38;2;200;50;50m9   \u001b[0m \u001b[38;2;100;100;200m7   \u001b[0m 00:00:04.68  00:01:23.36 \n",
      "66.0         0.00112                  \u001b[38;2;200;50;50m5   \u001b[0m \u001b[38;2;100;100;200m5   \u001b[0m 00:00:04.61  00:01:18.72 \n",
      "68.0         0.00122                  \u001b[38;2;200;50;50m4   \u001b[0m \u001b[38;2;100;100;200m9   \u001b[0m 00:00:04.57  00:01:14.06 \n",
      "70.0         0.00112                  \u001b[38;2;200;50;50m10  \u001b[0m \u001b[38;2;100;100;200m5   \u001b[0m 00:00:04.58  00:01:09.42 \n",
      "72.0         0.00098                  \u001b[38;2;200;50;50m8   \u001b[0m \u001b[38;2;100;100;200m1   \u001b[0m 00:00:04.57  00:01:04.77 \n",
      "74.0         0.00096                  \u001b[38;2;200;50;50m7   \u001b[0m \u001b[38;2;100;100;200m6   \u001b[0m 00:00:04.70  00:01:00.17 \n",
      "76.0         0.00092                  \u001b[38;2;200;50;50m7   \u001b[0m \u001b[38;2;100;100;200m5   \u001b[0m 00:00:04.54  00:00:55.51 \n",
      "78.0         0.00088                  \u001b[38;2;200;50;50m7   \u001b[0m \u001b[38;2;100;100;200m5   \u001b[0m 00:00:04.54  00:00:50.86 \n",
      "80.0         0.00086                  \u001b[38;2;200;50;50m5   \u001b[0m \u001b[38;2;100;100;200m4   \u001b[0m 00:00:04.80  00:00:46.28 \n",
      "82.0         0.00082                  \u001b[38;2;200;50;50m6   \u001b[0m \u001b[38;2;100;100;200m4   \u001b[0m 00:00:04.57  00:00:41.64 \n",
      "84.0         0.00086                  \u001b[38;2;200;50;50m4   \u001b[0m \u001b[38;2;100;100;200m6   \u001b[0m 00:00:04.56  00:00:37.01 \n",
      "86.0         0.00084                  \u001b[38;2;200;50;50m8   \u001b[0m \u001b[38;2;100;100;200m7   \u001b[0m 00:00:04.57  00:00:32.37 \n",
      "88.0         0.00092                  \u001b[38;2;200;50;50m6   \u001b[0m \u001b[38;2;100;100;200m10  \u001b[0m 00:00:04.79  00:00:27.77 \n",
      "90.0         0.0009                   \u001b[38;2;200;50;50m4   \u001b[0m \u001b[38;2;100;100;200m3   \u001b[0m 00:00:04.57  00:00:23.13 \n",
      "92.0         0.0009                   \u001b[38;2;200;50;50m7   \u001b[0m \u001b[38;2;100;100;200m7   \u001b[0m 00:00:04.64  00:00:18.51 \n",
      "94.0         0.0009                   \u001b[38;2;200;50;50m4   \u001b[0m \u001b[38;2;100;100;200m4   \u001b[0m 00:00:04.57  00:00:13.88 \n",
      "96.0         0.001                    \u001b[38;2;200;50;50m4   \u001b[0m \u001b[38;2;100;100;200m9   \u001b[0m 00:00:04.60  00:00:09.25 \n",
      "98.0         0.00108                  \u001b[38;2;200;50;50m9   \u001b[0m \u001b[38;2;100;100;200m13  \u001b[0m 00:00:04.61  00:00:04.62 \n",
      "100.0        0.00116                  \u001b[38;2;200;50;50m5   \u001b[0m \u001b[38;2;100;100;200m9   \u001b[0m 00:00:04.62  00:00:00.00 \n"
     ]
    }
   ],
   "source": [
    "doConfigCalc(conf)\n",
    "conf['ChannelList'] = ['RGA','RGR','IDQ','IRQ','IDG','IRG']\n",
    "r = runBox()"
   ]
  },
  {
   "cell_type": "code",
   "execution_count": 10,
   "id": "cathedral-milwaukee",
   "metadata": {},
   "outputs": [
    {
     "data": {
      "image/png": "[encoded data removed]",
      "text/plain": [
       "<Figure size 864x576 with 1 Axes>"
      ]
     },
     "metadata": {
      "needs_background": "light"
     },
     "output_type": "display_data"
    }
   ],
   "source": [
    "plt.figure(figsize=(12, 8))\n",
    "plt.plot(r[:,0],r[:,1],color='#2233BB',label='Box sim')\n",
    "plt.axhline(y=classExp, color='r', linestyle='--', label='Non-relativistic')\n",
    "plt.axhline(y=relExp, color='g', linestyle='--', label='Relativistic')\n",
    "plt.xlabel('τ [GeV]-1',fontsize=14)\n",
    "plt.ylabel('N_hid/N_tot',fontsize=14)\n",
    "plt.yscale('log')\n",
    "plt.legend()\n",
    "plt.show()\n",
    "\n",
    "##### ALL CHANNELS ON"
   ]
  },
  {
   "cell_type": "code",
   "execution_count": null,
   "id": "romance-renewal",
   "metadata": {},
   "outputs": [],
   "source": []
  }
 ],
 "metadata": {
  "kernelspec": {
   "display_name": "Python 3",
   "language": "python",
   "name": "python3"
  },
  "language_info": {
   "codemirror_mode": {
    "name": "ipython",
    "version": 3
   },
   "file_extension": ".py",
   "mimetype": "text/x-python",
   "name": "python",
   "nbconvert_exporter": "python",
   "pygments_lexer": "ipython3",
   "version": "3.7.9"
  }
 },
 "nbformat": 4,
 "nbformat_minor": 5
}
