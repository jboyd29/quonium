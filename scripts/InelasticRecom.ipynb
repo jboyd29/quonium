{
 "cells": [
  {
   "cell_type": "code",
   "execution_count": 21,
   "id": "clinical-berlin",
   "metadata": {},
   "outputs": [
    {
     "name": "stdout",
     "output_type": "stream",
     "text": [
      "L : 1000\n",
      "dt : 1.0\n",
      "T : 0.3\n",
      "tFn : 100\n",
      "NY : 1\n",
      "Nbb : 399999\n",
      "pSampleType : 0\n",
      "UniPMax : 3.0\n",
      "pSampSig : 0.2\n",
      "MatrElems : 0\n",
      "qRGtype : 0\n",
      "ECut : 40\n",
      "prCut : 22\n",
      "NPts : 200\n",
      "ExportRates : True\n",
      "NXPart : 60\n",
      "NThreads : 14\n",
      "HydroMode : 0\n",
      "HPts : 20\n",
      "doRecom : 1\n",
      "doDisso : 1\n",
      "RGRrateOpt : 1\n",
      "Mb : 4.65\n",
      "M1S : 9.091\n",
      "M2S : 10.023\n",
      "E1S : 0.20925\n",
      "E2S : 0.723\n",
      "bsig : 0.01\n",
      "Ysig : 0.02\n",
      "alphaS : 0.3\n",
      "CF : 1.3333333333333333\n",
      "NC : 3\n",
      "gs : 0.75\n",
      "Ch : 0\n",
      "rateFile : bottom_rates_2d.tsv\n",
      "boop : gleep\n"
     ]
    }
   ],
   "source": [
    "import numpy as np\n",
    "import sys\n",
    "import os\n",
    "import matplotlib.pyplot as plt\n",
    "\n",
    "from IPython.display import display, Math\n",
    "\n",
    "sys.path.append('/home/jacob/projects/quonium/python')\n",
    "from config import colr\n",
    "from config import config\n",
    "\n",
    "from mathFunc2 import doConfigCalc\n",
    "import mathFunc2 as mF\n",
    "\n",
    "conf = config()\n",
    "conf.echoParams()\n",
    "\n"
   ]
  },
  {
   "cell_type": "code",
   "execution_count": 2,
   "id": "unlikely-painting",
   "metadata": {},
   "outputs": [
    {
     "name": "stdout",
     "output_type": "stream",
     "text": [
      "Constants set\n",
      "IRQ_vInt1S set\n",
      "IRQ_rateFv1S set\n",
      "IRG_vInt1S set\n",
      "IRG_rateFv1S set\n"
     ]
    }
   ],
   "source": [
    "conf['StateList'] = ['1S']\n",
    "conf['ChannelList'] = ['IRQ','IRG']\n",
    "doConfigCalc(conf)"
   ]
  },
  {
   "cell_type": "code",
   "execution_count": 3,
   "id": "republican-fraud",
   "metadata": {},
   "outputs": [
    {
     "data": {
      "text/plain": [
       "0.30929994507072694"
      ]
     },
     "execution_count": 3,
     "metadata": {},
     "output_type": "execute_result"
    }
   ],
   "source": [
    "mF.MCScInt(0, conf, mF.IRQint, '1S')"
   ]
  },
  {
   "cell_type": "code",
   "execution_count": 18,
   "id": "italian-alarm",
   "metadata": {},
   "outputs": [],
   "source": [
    "def sampPrelFp1V0(conf, p1M=0):\n",
    "    sN = 10000\n",
    "    v1 = mF.vFp(p1M, conf['Mb'])\n",
    "    vi = v1*mF.sampleSphere(sN)\n",
    "    g = mF.gFv(v1)\n",
    "    p1 = conf['Mb']*g*np.hstack([np.linspace(1,1,vi.shape[0]).reshape(-1, 1), vi])\n",
    "    p23 = mF.sampleSphere(sN)*mF.samplefB(sN, conf)[:, np.newaxis]\n",
    "    p2 = np.hstack([np.sqrt(np.power(p23[:,0],2)+np.power(p23[:,1],2)+np.power(p23[:,2],2)+np.power(conf['Mb'],2)).reshape(-1, 1), p23])\n",
    "    vcm = (p1[:,1:]+p2[:,1:])/((p1[:,0]+p2[:,0])[:, np.newaxis])\n",
    "    bL = mF.BoostL(vcm)\n",
    "    bp1, bp2 = np.einsum('ijk,ik->ij',bL,p1), np.einsum('ijk,ik->ij',bL,p2)\n",
    "    cmBpr = np.linalg.norm((1/2)*(bp1 - bp2)[:,1:],axis=1)\n",
    "    vcmM = np.linalg.norm(vcm,axis=1)*0\n",
    "    return [vcmM, cmBpr]\n",
    "\n",
    "def NintRecomIRQV0(conf, vcC, Rconst, st):\n",
    "    vpFunc = lambda vp: mF.IRQvpFC(vp, conf, st)\n",
    "    return (1/np.power(conf['L'],3))*Rconst*np.mean(vpFunc(sampPrelFp1V0(conf)))\n",
    "def NintRecomIRGV0(conf, vcC, Rconst, st):\n",
    "    vpFunc = lambda vp: mF.IRGvpFC(vp, conf, st)\n",
    "    return (1/np.power(conf['L'],3))*Rconst*np.mean(vpFunc(sampPrelFp1V0(conf)))"
   ]
  },
  {
   "cell_type": "code",
   "execution_count": 19,
   "id": "nervous-variable",
   "metadata": {},
   "outputs": [
    {
     "name": "stdout",
     "output_type": "stream",
     "text": [
      "Γ_IRQ_v=0: 2.3165106806003e-11  [GeV]\n",
      "Γ_IRG_v=0: 1.7199489693610106e-11  [GeV]\n"
     ]
    }
   ],
   "source": [
    "IRQvcC = mF.MCScInt(0, conf, mF.IRQint, '1S')\n",
    "IRQrateV0 = float(NintRecomIRQV0(conf, IRQvcC, conf['IRQ_C'], '1S'))\n",
    "IRGvcC = mF.MCScInt(0, conf, mF.IRGint, '1S')\n",
    "IRGrateV0 = float(NintRecomIRGV0(conf, IRGvcC, conf['IRG_C'], '1S'))\n",
    "print('Γ_IRQ_v=0:',IRQrateV0,' [GeV]')\n",
    "print('Γ_IRG_v=0:',IRGrateV0,' [GeV]')"
   ]
  },
  {
   "cell_type": "code",
   "execution_count": 30,
   "id": "complex-marijuana",
   "metadata": {},
   "outputs": [
    {
     "name": "stdout",
     "output_type": "stream",
     "text": [
      "IRQ rate:\n"
     ]
    },
    {
     "data": {
      "text/latex": [
       "$\\displaystyle \\Gamma_{\\text{lab}}^{\\text{inel,}q} = g_+ \\sum_j \\frac{e^{-(\\pmb{x}_i -\\tilde{\\pmb{x}}_j)^2/(2a_B^2)}}{(2\\pi a^2_B)^{3/2}} \\frac{8\\alpha_s^2}{9\\pi^2}$"
      ],
      "text/plain": [
       "<IPython.core.display.Math object>"
      ]
     },
     "metadata": {},
     "output_type": "display_data"
    },
    {
     "data": {
      "text/latex": [
       "$\\displaystyle \\int p_1 \\text{d}p_1\\text{d}c_1 n_F(\\gamma(1+vc_1)p_1) \\int p_2 \\text{d}c_2 \\text{d}\\phi_2 [1-n_F(\\gamma(1+vc_2)p_2)]$"
      ],
      "text/plain": [
       "<IPython.core.display.Math object>"
      ]
     },
     "metadata": {},
     "output_type": "display_data"
    },
    {
     "data": {
      "text/latex": [
       "$\\displaystyle \\frac{p_1p_2 (1+s_1s_2\\cos{\\phi_2}+c_1c_2)}{p_1^2 + p_2^2 -2p_1p_2(s_1s_2\\cos{\\phi_2}+c_1c_2)} |\\langle \\Psi_{\\pmb{p}_{rel}}|\\pmb{r}|\\psi_{nl}\\rangle|^2$"
      ],
      "text/plain": [
       "<IPython.core.display.Math object>"
      ]
     },
     "metadata": {},
     "output_type": "display_data"
    },
    {
     "name": "stdout",
     "output_type": "stream",
     "text": [
      "IRG rate:\n"
     ]
    },
    {
     "data": {
      "text/latex": [
       "$\\displaystyle \\Gamma_{\\text{lab}}^{\\text{inel,}g} = g_+ \\sum_j \\frac{e^{-(\\pmb{x}_i -\\tilde{\\pmb{x}}_j)^2/(2a_B^2)}}{(2\\pi a^2_B)^{3/2}} \\frac{\\alpha_s^2}{3\\pi^2}$"
      ],
      "text/plain": [
       "<IPython.core.display.Math object>"
      ]
     },
     "metadata": {},
     "output_type": "display_data"
    },
    {
     "data": {
      "text/latex": [
       "$\\displaystyle \\int q_1 \\text{d}q_1\\text{d}c_1 n_B(\\gamma(1+vc_1)q_1) \\int q_2 \\text{d}c_2 \\text{d}\\phi_2 [1-n_B(\\gamma(1+vc_2)q_2)]$"
      ],
      "text/plain": [
       "<IPython.core.display.Math object>"
      ]
     },
     "metadata": {},
     "output_type": "display_data"
    },
    {
     "data": {
      "text/latex": [
       "$\\displaystyle \\frac{(q_1^2+q_2^2) (1+s_1s_2\\cos{\\phi_2}+c_1c_2)}{q_1^2 + q_2^2 -2q_1q_2(s_1s_2\\cos{\\phi_2}+c_1c_2)} |\\langle \\Psi_{\\pmb{p}_{rel}}|\\pmb{r}|\\psi_{nl}\\rangle|^2$"
      ],
      "text/plain": [
       "<IPython.core.display.Math object>"
      ]
     },
     "metadata": {},
     "output_type": "display_data"
    }
   ],
   "source": [
    "# IRQ rate\n",
    "IRQrateRaw1 = r'\\Gamma_{\\text{lab}}^{\\text{inel,}q} = g_+ \\sum_j \\frac{e^{-(\\pmb{x}_i -\\tilde{\\pmb{x}}_j)^2/(2a_B^2)}}{(2\\pi a^2_B)^{3/2}} \\frac{8\\alpha_s^2}{9\\pi^2}' \n",
    "IRQrateRaw2 = r'\\int p_1 \\text{d}p_1\\text{d}c_1 n_F(\\gamma(1+vc_1)p_1) \\int p_2 \\text{d}c_2 \\text{d}\\phi_2 [1-n_F(\\gamma(1+vc_2)p_2)]'\n",
    "IRQrateRaw3 = r'\\frac{p_1p_2 (1+s_1s_2\\cos{\\phi_2}+c_1c_2)}{p_1^2 + p_2^2 -2p_1p_2(s_1s_2\\cos{\\phi_2}+c_1c_2)} |\\langle \\Psi_{\\pmb{p}_{rel}}|\\pmb{r}|\\psi_{nl}\\rangle|^2'\n",
    "print('IRQ rate:')\n",
    "display(Math(IRQrateRaw1))\n",
    "display(Math(IRQrateRaw2))\n",
    "display(Math(IRQrateRaw3))\n",
    "\n",
    "IRGrateRaw1 = r'\\Gamma_{\\text{lab}}^{\\text{inel,}g} = g_+ \\sum_j \\frac{e^{-(\\pmb{x}_i -\\tilde{\\pmb{x}}_j)^2/(2a_B^2)}}{(2\\pi a^2_B)^{3/2}} \\frac{\\alpha_s^2}{3\\pi^2}' \n",
    "IRGrateRaw2 = r'\\int q_1 \\text{d}q_1\\text{d}c_1 n_B(\\gamma(1+vc_1)q_1) \\int q_2 \\text{d}c_2 \\text{d}\\phi_2 [1-n_B(\\gamma(1+vc_2)q_2)]'\n",
    "IRGrateRaw3 = r'\\frac{(q_1^2+q_2^2) (1+s_1s_2\\cos{\\phi_2}+c_1c_2)}{(q_1 + q_2)^2 -2q_1q_2(s_1s_2\\cos{\\phi_2}+c_1c_2)} |\\langle \\Psi_{\\pmb{p}_{rel}}|\\pmb{r}|\\psi_{nl}\\rangle|^2'\n",
    "print('IRG rate:')\n",
    "display(Math(IRGrateRaw1))\n",
    "display(Math(IRGrateRaw2))\n",
    "display(Math(IRGrateRaw3))"
   ]
  },
  {
   "cell_type": "code",
   "execution_count": 37,
   "id": "conscious-premises",
   "metadata": {},
   "outputs": [
    {
     "data": {
      "text/latex": [
       "$\\displaystyle \\text{IRQ_vcC} = \\int p_1 \\text{d}p_1\\text{d}c_1 n_F(\\gamma(1+vc_1)p_1) \\int p_2 \\text{d}c_2 \\text{d}\\phi_2 [1-n_F(\\gamma(1+vc_2)p_2)] \\frac{p_1p_2 (1+s_1s_2\\cos{\\phi_2}+c_1c_2)}{p_1^2 + p_2^2 -2p_1p_2(s_1s_2\\cos{\\phi_2}+c_1c_2)}$"
      ],
      "text/plain": [
       "<IPython.core.display.Math object>"
      ]
     },
     "metadata": {},
     "output_type": "display_data"
    },
    {
     "name": "stdout",
     "output_type": "stream",
     "text": [
      "Monte-carlo integrate over relavant ranges for p1, p2, c1, c2, phi2\n",
      "\n",
      "IRQ_vcC = 0.3235749358449477\n",
      "\n"
     ]
    },
    {
     "data": {
      "text/latex": [
       "$\\displaystyle \\text{IRG_vcC} = \\int q_1 \\text{d}q_1\\text{d}c_1 n_B(\\gamma(1+vc_1)q_1) \\int q_2 \\text{d}c_2 \\text{d}\\phi_2 [1-n_B(\\gamma(1+vc_2)q_2)] \\frac{(q_1 + q_2)^2 (1+s_1s_2\\cos{\\phi_2}+c_1c_2)}{q_1^2 + q_2^2 -2q_1q_2(s_1s_2\\cos{\\phi_2}+c_1c_2)}$"
      ],
      "text/plain": [
       "<IPython.core.display.Math object>"
      ]
     },
     "metadata": {},
     "output_type": "display_data"
    },
    {
     "name": "stdout",
     "output_type": "stream",
     "text": [
      "Monte-carlo integrate over relavant ranges for q1, q2, c1, c2, phi2\n",
      "\n",
      "IRG_vcC = 0.6123918652832362\n"
     ]
    }
   ],
   "source": [
    "# Executing this integration\n",
    "IRQrateRaw4 = r'\\text{IRQ_vcC} = \\int p_1 \\text{d}p_1\\text{d}c_1 n_F(\\gamma(1+vc_1)p_1) \\int p_2 \\text{d}c_2 \\text{d}\\phi_2 [1-n_F(\\gamma(1+vc_2)p_2)] \\frac{p_1p_2 (1+s_1s_2\\cos{\\phi_2}+c_1c_2)}{p_1^2 + p_2^2 -2p_1p_2(s_1s_2\\cos{\\phi_2}+c_1c_2)}'\n",
    "display(Math(IRQrateRaw4))\n",
    "print('Monte-carlo integrate over relavant ranges for p1, p2, c1, c2, phi2')\n",
    "print('')\n",
    "print('IRQ_vcC =', IRQvcC)\n",
    "print('')\n",
    "IRGrateRaw4 = r'\\text{IRG_vcC} = \\int q_1 \\text{d}q_1\\text{d}c_1 n_B(\\gamma(1+vc_1)q_1) \\int q_2 \\text{d}c_2 \\text{d}\\phi_2 [1-n_B(\\gamma(1+vc_2)q_2)] \\frac{(q_1 + q_2)^2 (1+s_1s_2\\cos{\\phi_2}+c_1c_2)}{q_1^2 + q_2^2 -2q_1q_2(s_1s_2\\cos{\\phi_2}+c_1c_2)}'\n",
    "display(Math(IRGrateRaw4))\n",
    "print('Monte-carlo integrate over relavant ranges for q1, q2, c1, c2, phi2')\n",
    "print('')\n",
    "print('IRG_vcC =', IRGvcC)"
   ]
  },
  {
   "cell_type": "code",
   "execution_count": null,
   "id": "serious-parker",
   "metadata": {},
   "outputs": [],
   "source": []
  }
 ],
 "metadata": {
  "kernelspec": {
   "display_name": "Python 3",
   "language": "python",
   "name": "python3"
  },
  "language_info": {
   "codemirror_mode": {
    "name": "ipython",
    "version": 3
   },
   "file_extension": ".py",
   "mimetype": "text/x-python",
   "name": "python",
   "nbconvert_exporter": "python",
   "pygments_lexer": "ipython3",
   "version": "3.7.9"
  }
 },
 "nbformat": 4,
 "nbformat_minor": 5
}
