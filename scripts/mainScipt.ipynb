{
 "cells": [
  {
   "cell_type": "code",
   "execution_count": 1,
   "id": "civil-guinea",
   "metadata": {},
   "outputs": [],
   "source": [
    "### Run script"
   ]
  },
  {
   "cell_type": "code",
   "execution_count": 1,
   "id": "increased-beatles",
   "metadata": {
    "scrolled": true
   },
   "outputs": [
    {
     "name": "stdout",
     "output_type": "stream",
     "text": [
      "L : 500\n",
      "dt : 4\n",
      "T : 0.3\n",
      "tFn : 25\n",
      "NY : 1\n",
      "Nbb : 49999\n",
      "pSampleType : 0\n",
      "UniPMax : 3.0\n",
      "pSampSig : 0.2\n",
      "MatrElems : 0\n",
      "qRGtype : 0\n",
      "ECut : 40\n",
      "prCut : 22\n",
      "NPts : 200\n",
      "ExportRates : True\n",
      "NXPart : 40\n",
      "NThreads : 14\n",
      "HydroMode : 0\n",
      "HPts : 20\n",
      "doRecom : 1\n",
      "doDisso : 1\n",
      "RGRrateOpt : 1\n",
      "Mb : 4.65\n",
      "M1S : 9.091\n",
      "M2S : 10.023\n",
      "E1S : 0.20925\n",
      "E2S : 0.723\n",
      "bsig : 0.01\n",
      "Ysig : 0.02\n",
      "alphaS : 0.3\n",
      "CF : 1.3333333333333333\n",
      "NC : 3\n",
      "gs : 0.75\n",
      "Ch : 0\n",
      "rateFile : bottom_rates_2d.tsv\n",
      "boop : gleep\n",
      "StateList : ['1S']\n",
      "ChannelList : ['RGA', 'RGR']\n"
     ]
    }
   ],
   "source": [
    "import numpy as np\n",
    "import sys\n",
    "import os\n",
    "import matplotlib.pyplot as plt\n",
    "\n",
    "\n",
    "sys.path.append('/home/jacob/projects/quonium/python')\n",
    "from config import colr\n",
    "from config import config\n",
    "from config import conOutput\n",
    "\n",
    "col1, col2, col3 = '#EE2211', '#11CC22', '#1111EE'\n",
    "\n",
    "conf = config()\n",
    "conf['StateList'] = ['1S']\n",
    "#conf['ChannelList'] = ['RGA','RGR','IDQ','IRQ','IDG','IRG']\n",
    "conf['ChannelList'] = ['RGA','RGR']\n",
    "conf['Nbb'], conf['NY'] = 49999, 1\n",
    "conf['L'], conf['NXPart'] = 500, 40\n",
    "conf['NThreads'] = 14\n",
    "conf['dt'] = 4\n",
    "conf['tFn'] = 25\n",
    "#conf['doRecom'] = 0\n",
    "hbarc = 0.1973\n",
    "conf.echoParams()"
   ]
  },
  {
   "cell_type": "code",
   "execution_count": 2,
   "id": "indonesian-singer",
   "metadata": {},
   "outputs": [],
   "source": [
    "from core import box\n",
    "from mathFunc2 import doConfigCalc,calcClassExpec,calcRelExpec2\n",
    "import mathFunc2 as mF\n",
    "\n",
    "pPts = mF.getpPts(conf)\n",
    "vPtsq = mF.vFp(pPts, conf['Mb'])\n",
    "vPts1S = mF.vFp(pPts, conf['M1S'])\n",
    "\n",
    "from mathFunc2 import fB, vFp, calcClassExpec, calcRelExpec2\n",
    "def Ntot(dist, sep):\n",
    "    return np.sum(dist)*sep\n",
    "def runExp2(conf, pPts, DchInt, RchInt, st):\n",
    "    bD, qD = fB(pPts, conf['M'+st], conf['T'])*conf['NY'], fB(pPts, conf['Mb'], conf['T'])*conf['Nbb']\n",
    "    s = pPts[1]-pPts[0]\n",
    "    res = [[0,Ntot(bD,s)/(Ntot(bD,s)+Ntot(qD,s))]]\n",
    "    vPtsq = vFp(pPts, conf['Mb'])\n",
    "    vPtsST = vFp(pPts, conf['M'+st])\n",
    "    for i in range(conf['tFn']):\n",
    "        if i == 0:\n",
    "            continue\n",
    "        Dtot = pPts*0\n",
    "        Rtot = pPts*0\n",
    "        for ch in DchInt:\n",
    "            Dtot += ch(vPtsST)*bD*conf['dt']\n",
    "        for ch in RchInt:\n",
    "            Rtot += ch(vPtsq)*qD*Ntot(qD,s)*conf['dt']\n",
    "        bD = bD-Dtot+(Ntot(Rtot,s)*fB(pPts, conf['M'+st], conf['T']))\n",
    "        qD = qD-Rtot+(Ntot(Dtot,s)*fB(pPts, conf['Mb'], conf['T']))\n",
    "        res.append([i*conf['dt'],Ntot(bD,s)/(Ntot(bD,s)+Ntot(qD,s))])\n",
    "    return np.array(res)"
   ]
  },
  {
   "cell_type": "code",
   "execution_count": 3,
   "id": "excited-bargain",
   "metadata": {
    "scrolled": true
   },
   "outputs": [
    {
     "name": "stdout",
     "output_type": "stream",
     "text": [
      "Constants set\n",
      "RGA_rate1S set\n",
      "RGR_rateFv1S set\n"
     ]
    }
   ],
   "source": [
    "doConfigCalc(conf)"
   ]
  },
  {
   "cell_type": "code",
   "execution_count": 5,
   "id": "micro-explanation",
   "metadata": {
    "scrolled": true
   },
   "outputs": [
    {
     "name": "stdout",
     "output_type": "stream",
     "text": [
      "t:       Nhid:                    Dis:    Rec:      \n",
      "BND: 2\n",
      "QRK: 99998\n",
      "TOT 100000\n",
      "4.0      0.00018      \u001b[38;2;200;50;50m0\u001b[0m      \u001b[38;2;100;100;200m8\u001b[0m\n",
      "8.0      0.00032      \u001b[38;2;200;50;50m2\u001b[0m      \u001b[38;2;100;100;200m9\u001b[0m\n",
      "12.0      0.0006      \u001b[38;2;200;50;50m1\u001b[0m      \u001b[38;2;100;100;200m15\u001b[0m\n",
      "16.0      0.00072      \u001b[38;2;200;50;50m5\u001b[0m      \u001b[38;2;100;100;200m11\u001b[0m\n",
      "20.0      0.00086      \u001b[38;2;200;50;50m4\u001b[0m      \u001b[38;2;100;100;200m11\u001b[0m\n",
      "24.0      0.00104      \u001b[38;2;200;50;50m6\u001b[0m      \u001b[38;2;100;100;200m15\u001b[0m\n",
      "28.0      0.00112      \u001b[38;2;200;50;50m13\u001b[0m      \u001b[38;2;100;100;200m17\u001b[0m\n",
      "32.0      0.00112      \u001b[38;2;200;50;50m8\u001b[0m      \u001b[38;2;100;100;200m8\u001b[0m\n",
      "36.0      0.00114      \u001b[38;2;200;50;50m12\u001b[0m      \u001b[38;2;100;100;200m13\u001b[0m\n",
      "40.0      0.00112      \u001b[38;2;200;50;50m11\u001b[0m      \u001b[38;2;100;100;200m10\u001b[0m\n",
      "44.0      0.00138      \u001b[38;2;200;50;50m6\u001b[0m      \u001b[38;2;100;100;200m19\u001b[0m\n",
      "48.0      0.0015      \u001b[38;2;200;50;50m7\u001b[0m      \u001b[38;2;100;100;200m13\u001b[0m\n",
      "52.0      0.0017      \u001b[38;2;200;50;50m6\u001b[0m      \u001b[38;2;100;100;200m16\u001b[0m\n",
      "56.0      0.00172      \u001b[38;2;200;50;50m10\u001b[0m      \u001b[38;2;100;100;200m11\u001b[0m\n",
      "60.0      0.0017      \u001b[38;2;200;50;50m14\u001b[0m      \u001b[38;2;100;100;200m13\u001b[0m\n",
      "64.0      0.00158      \u001b[38;2;200;50;50m17\u001b[0m      \u001b[38;2;100;100;200m11\u001b[0m\n",
      "68.0      0.00166      \u001b[38;2;200;50;50m9\u001b[0m      \u001b[38;2;100;100;200m13\u001b[0m\n",
      "72.0      0.00168      \u001b[38;2;200;50;50m9\u001b[0m      \u001b[38;2;100;100;200m10\u001b[0m\n",
      "76.0      0.00176      \u001b[38;2;200;50;50m8\u001b[0m      \u001b[38;2;100;100;200m12\u001b[0m\n",
      "80.0      0.00172      \u001b[38;2;200;50;50m13\u001b[0m      \u001b[38;2;100;100;200m11\u001b[0m\n",
      "84.0      0.00166      \u001b[38;2;200;50;50m14\u001b[0m      \u001b[38;2;100;100;200m11\u001b[0m\n",
      "88.0      0.00174      \u001b[38;2;200;50;50m7\u001b[0m      \u001b[38;2;100;100;200m11\u001b[0m\n",
      "92.0      0.00166      \u001b[38;2;200;50;50m14\u001b[0m      \u001b[38;2;100;100;200m10\u001b[0m\n",
      "96.0      0.00164      \u001b[38;2;200;50;50m11\u001b[0m      \u001b[38;2;100;100;200m10\u001b[0m\n",
      "100.0      0.00174      \u001b[38;2;200;50;50m11\u001b[0m      \u001b[38;2;100;100;200m16\u001b[0m\n",
      "BND: 174\n",
      "QRK: 99826\n",
      "TOT 100000\n",
      "t:       Nhid:                    Dis:    Rec:      \n",
      "BND: 2\n",
      "QRK: 99997\n",
      "TOT 99999\n",
      "4.0      0.0002      \u001b[38;2;200;50;50m0\u001b[0m      \u001b[38;2;100;100;200m9\u001b[0m\n",
      "8.0      0.00036      \u001b[38;2;200;50;50m2\u001b[0m      \u001b[38;2;100;100;200m10\u001b[0m\n",
      "12.0      0.0007      \u001b[38;2;200;50;50m4\u001b[0m      \u001b[38;2;100;100;200m21\u001b[0m\n",
      "16.0      0.00078      \u001b[38;2;200;50;50m6\u001b[0m      \u001b[38;2;100;100;200m10\u001b[0m\n",
      "20.0      0.00098      \u001b[38;2;200;50;50m7\u001b[0m      \u001b[38;2;100;100;200m17\u001b[0m\n",
      "24.0      0.00116      \u001b[38;2;200;50;50m7\u001b[0m      \u001b[38;2;100;100;200m16\u001b[0m\n",
      "28.0      0.00114      \u001b[38;2;200;50;50m13\u001b[0m      \u001b[38;2;100;100;200m12\u001b[0m\n",
      "32.0      0.00118      \u001b[38;2;200;50;50m12\u001b[0m      \u001b[38;2;100;100;200m14\u001b[0m\n",
      "36.0      0.00116      \u001b[38;2;200;50;50m9\u001b[0m      \u001b[38;2;100;100;200m8\u001b[0m\n",
      "40.0      0.00126      \u001b[38;2;200;50;50m10\u001b[0m      \u001b[38;2;100;100;200m15\u001b[0m\n",
      "44.0      0.0013      \u001b[38;2;200;50;50m11\u001b[0m      \u001b[38;2;100;100;200m13\u001b[0m\n",
      "48.0      0.00134      \u001b[38;2;200;50;50m13\u001b[0m      \u001b[38;2;100;100;200m15\u001b[0m\n",
      "52.0      0.00136      \u001b[38;2;200;50;50m14\u001b[0m      \u001b[38;2;100;100;200m15\u001b[0m\n",
      "56.0      0.00134      \u001b[38;2;200;50;50m13\u001b[0m      \u001b[38;2;100;100;200m12\u001b[0m\n",
      "60.0      0.00122      \u001b[38;2;200;50;50m13\u001b[0m      \u001b[38;2;100;100;200m7\u001b[0m\n",
      "64.0      0.00126      \u001b[38;2;200;50;50m11\u001b[0m      \u001b[38;2;100;100;200m13\u001b[0m\n",
      "68.0      0.00134      \u001b[38;2;200;50;50m10\u001b[0m      \u001b[38;2;100;100;200m14\u001b[0m\n",
      "72.0      0.00154      \u001b[38;2;200;50;50m5\u001b[0m      \u001b[38;2;100;100;200m15\u001b[0m\n",
      "76.0      0.0016      \u001b[38;2;200;50;50m7\u001b[0m      \u001b[38;2;100;100;200m10\u001b[0m\n",
      "80.0      0.0015      \u001b[38;2;200;50;50m13\u001b[0m      \u001b[38;2;100;100;200m8\u001b[0m\n",
      "84.0      0.00152      \u001b[38;2;200;50;50m10\u001b[0m      \u001b[38;2;100;100;200m11\u001b[0m\n",
      "88.0      0.00156      \u001b[38;2;200;50;50m12\u001b[0m      \u001b[38;2;100;100;200m14\u001b[0m\n",
      "92.0      0.0016      \u001b[38;2;200;50;50m14\u001b[0m      \u001b[38;2;100;100;200m16\u001b[0m\n",
      "96.0      0.00172      \u001b[38;2;200;50;50m7\u001b[0m      \u001b[38;2;100;100;200m13\u001b[0m\n",
      "100.0      0.00178      \u001b[38;2;200;50;50m9\u001b[0m      \u001b[38;2;100;100;200m12\u001b[0m\n",
      "BND: 178\n",
      "QRK: 99821\n",
      "TOT 99999\n",
      "t:       Nhid:                    Dis:    Rec:      \n",
      "BND: 2\n",
      "QRK: 99997\n",
      "TOT 99999\n",
      "4.0      0.0002      \u001b[38;2;200;50;50m1\u001b[0m      \u001b[38;2;100;100;200m10\u001b[0m\n",
      "8.0      0.0005      \u001b[38;2;200;50;50m1\u001b[0m      \u001b[38;2;100;100;200m16\u001b[0m\n",
      "12.0      0.00064      \u001b[38;2;200;50;50m4\u001b[0m      \u001b[38;2;100;100;200m11\u001b[0m\n",
      "16.0      0.00094      \u001b[38;2;200;50;50m6\u001b[0m      \u001b[38;2;100;100;200m21\u001b[0m\n",
      "20.0      0.00104      \u001b[38;2;200;50;50m7\u001b[0m      \u001b[38;2;100;100;200m12\u001b[0m\n",
      "24.0      0.00114      \u001b[38;2;200;50;50m9\u001b[0m      \u001b[38;2;100;100;200m14\u001b[0m\n",
      "28.0      0.00124      \u001b[38;2;200;50;50m9\u001b[0m      \u001b[38;2;100;100;200m14\u001b[0m\n",
      "32.0      0.00124      \u001b[38;2;200;50;50m13\u001b[0m      \u001b[38;2;100;100;200m13\u001b[0m\n",
      "36.0      0.00126      \u001b[38;2;200;50;50m13\u001b[0m      \u001b[38;2;100;100;200m14\u001b[0m\n",
      "40.0      0.00132      \u001b[38;2;200;50;50m7\u001b[0m      \u001b[38;2;100;100;200m10\u001b[0m\n",
      "44.0      0.00138      \u001b[38;2;200;50;50m7\u001b[0m      \u001b[38;2;100;100;200m10\u001b[0m\n",
      "48.0      0.00154      \u001b[38;2;200;50;50m12\u001b[0m      \u001b[38;2;100;100;200m20\u001b[0m\n",
      "52.0      0.00162      \u001b[38;2;200;50;50m13\u001b[0m      \u001b[38;2;100;100;200m17\u001b[0m\n",
      "56.0      0.0017      \u001b[38;2;200;50;50m8\u001b[0m      \u001b[38;2;100;100;200m12\u001b[0m\n",
      "60.0      0.00164      \u001b[38;2;200;50;50m13\u001b[0m      \u001b[38;2;100;100;200m10\u001b[0m\n",
      "64.0      0.00158      \u001b[38;2;200;50;50m14\u001b[0m      \u001b[38;2;100;100;200m11\u001b[0m\n",
      "68.0      0.0016      \u001b[38;2;200;50;50m9\u001b[0m      \u001b[38;2;100;100;200m10\u001b[0m\n",
      "72.0      0.00166      \u001b[38;2;200;50;50m17\u001b[0m      \u001b[38;2;100;100;200m20\u001b[0m\n",
      "76.0      0.00166      \u001b[38;2;200;50;50m10\u001b[0m      \u001b[38;2;100;100;200m10\u001b[0m\n",
      "80.0      0.00168      \u001b[38;2;200;50;50m16\u001b[0m      \u001b[38;2;100;100;200m17\u001b[0m\n",
      "84.0      0.00172      \u001b[38;2;200;50;50m15\u001b[0m      \u001b[38;2;100;100;200m17\u001b[0m\n",
      "88.0      0.00164      \u001b[38;2;200;50;50m14\u001b[0m      \u001b[38;2;100;100;200m10\u001b[0m\n",
      "92.0      0.00154      \u001b[38;2;200;50;50m18\u001b[0m      \u001b[38;2;100;100;200m13\u001b[0m\n",
      "96.0      0.00174      \u001b[38;2;200;50;50m6\u001b[0m      \u001b[38;2;100;100;200m16\u001b[0m\n",
      "100.0      0.00194      \u001b[38;2;200;50;50m10\u001b[0m      \u001b[38;2;100;100;200m20\u001b[0m\n",
      "BND: 194\n",
      "QRK: 99805\n",
      "TOT 99999\n"
     ]
    }
   ],
   "source": [
    "def runBox():\n",
    "    b = box(conf)\n",
    "    print('t:       Nhid:                    Dis:    Rec:      ')\n",
    "    rnh = []\n",
    "    print('BND:',len(b.boundC)*2)\n",
    "    print('QRK:',len(b.quarkC))\n",
    "    print('TOT',len(b.quarkC)+(len(b.boundC)*2))\n",
    "    b.recLine()\n",
    "    for i in range(conf['tFn']):\n",
    "        b.step()\n",
    "        b.recLine()\n",
    "        dN = len(b.dissoEvents)\n",
    "        rN = len(b.recomEvents)\n",
    "        print(b.rec[-1][0],'    ',b.rec[-1][1], '    ',colr(str(dN),(200,50,50)),'    ', colr(str(rN),(100,100,200)))\n",
    "        #print('t:',b.time,'')\n",
    "        #Eb = b.getEb()\n",
    "        ##EY = b.getEY()\n",
    "        #EMix = b.getEMix()\n",
    "        #Mb = b.getMbs()\n",
    "        #MY = b.getMYs()\n",
    "        #conOut.printLine([b.rec[-1][0], b.rec[-1][1], b.getNDEvs(), b.getNREvs(), b.cl.getStepTime(), b.cl.getExpectTime()])\n",
    "    recA = np.array(b.rec) \n",
    "    print('BND:',len(b.boundC)*2)\n",
    "    print('QRK:',len(b.quarkC))\n",
    "    print('TOT',len(b.quarkC)+(len(b.boundC)*2))\n",
    "    return recA\n",
    "\n",
    "bR = []\n",
    "for i in range(3):\n",
    "    bR.append(runBox())\n",
    "    \n",
    "avg = np.mean(np.array(bR)[:,:,1],axis = 0)"
   ]
  },
  {
   "cell_type": "code",
   "execution_count": 6,
   "id": "civilian-international",
   "metadata": {},
   "outputs": [
    {
     "name": "stdout",
     "output_type": "stream",
     "text": [
      "[2.00000000e-05 1.93333333e-04 3.93333333e-04 6.46666667e-04\n",
      " 8.13333333e-04 9.60000000e-04 1.11333333e-03 1.16666667e-03\n",
      " 1.18000000e-03 1.18666667e-03 1.23333333e-03 1.35333333e-03\n",
      " 1.46000000e-03 1.56000000e-03 1.58666667e-03 1.52000000e-03\n",
      " 1.47333333e-03 1.53333333e-03 1.62666667e-03 1.67333333e-03\n",
      " 1.63333333e-03 1.63333333e-03 1.64666667e-03 1.60000000e-03\n",
      " 1.70000000e-03 1.82000000e-03]\n"
     ]
    }
   ],
   "source": [
    "avg = np.mean(np.array(bR)[:,:,1],axis = 0)\n",
    "print(avg)"
   ]
  },
  {
   "cell_type": "code",
   "execution_count": 13,
   "id": "genetic-jerusalem",
   "metadata": {},
   "outputs": [
    {
     "name": "stdout",
     "output_type": "stream",
     "text": [
      "nonrel-Nhid/Ntot: 0.001730484230463492\n",
      "rel-Nhid/Ntot: 0.0014666271038068232\n"
     ]
    },
    {
     "data": {
      "image/png": "[encoded data removed]",
      "text/plain": [
       "<Figure size 864x576 with 1 Axes>"
      ]
     },
     "metadata": {
      "needs_background": "light"
     },
     "output_type": "display_data"
    }
   ],
   "source": [
    "plt.figure(figsize=(12, 8))\n",
    "plt.plot(bR[0][:,0]*hbarc,avg)\n",
    "plt.axhline(y=calcClassExpec(conf), color='r', linestyle='--', label='Non-relativistic')\n",
    "plt.axhline(y=calcRelExpec2(conf), color='g', linestyle='--', label='Relativistic')\n",
    "\n",
    "RGexp = runExp2(conf, pPts, [conf['RGA_rate1S']], [conf['RGR_rateFv1S']], '1S')\n",
    "#IQexp = runExp2(conf, pPts, [conf['IDQ_rate1S']], [conf['IRQ_rateFv1S']], '1S')\n",
    "#IGexp = runExp2(conf, pPts, [conf['IDG_rate1S']], [conf['IRG_rateFv1S']], '1S')\n",
    "#totexp = runExp2(conf, pPts, [conf['RGA_rate1S'],conf['IDQ_rate1S'],conf['IDG_rate1S']], [conf['RGR_rateFv1S'],conf['IRQ_rateFv1S'],conf['IRG_rateFv1S']], '1S')\n",
    "\n",
    "\n",
    "#tPts = gettauPts(conf)\n",
    "plt.plot(RGexp[:,0]*hbarc, RGexp[:,1], color=col1, label='Real gluon')\n",
    "#plt.plot(IQexp[:,0], IQexp[:,1], color=col2, label='Inelastic scatting w/ light quarks')\n",
    "#plt.plot(IGexp[:,0], IGexp[:,1], color=col3, label='Inelastic scatting w/ gluons')\n",
    "#plt.plot(totexp[:,0], totexp[:,1], color='k', label='Combined')\n",
    "#plt.axhline(y=calcClassExpec(conf), color='r', linestyle='--', label='Non-relativistic')\n",
    "#plt.axhline(y=calcRelExpec2(conf), color='g', linestyle='--', label='Relativistic')\n",
    "\n",
    "plt.xlabel('τ [GeV]',fontsize=14)\n",
    "plt.ylabel('N_hid/N_tot',fontsize=14)\n",
    "plt.yscale('log')\n",
    "plt.legend()\n",
    "plt.show()"
   ]
  },
  {
   "cell_type": "code",
   "execution_count": 9,
   "id": "aerial-sampling",
   "metadata": {
    "scrolled": true
   },
   "outputs": [
    {
     "name": "stdout",
     "output_type": "stream",
     "text": [
      "Constants set\n",
      "RGA_rate1S set\n",
      "RGR_rateFv1S set\n",
      "IDQ_rate1S set\n",
      "IRQ_vInt1S set\n",
      "IRQ_rateFv1S set\n",
      "IDG_rate1S set\n",
      "IRG_vInt1S set\n",
      "IRG_rateFv1S set\n",
      "t:       Nhid:                    Dis:    Rec:      \n",
      "BND: 2\n",
      "QRK: 99998\n",
      "TOT 100000\n",
      "4.0      0.00032      \u001b[38;2;200;50;50m0\u001b[0m      \u001b[38;2;100;100;200m15\u001b[0m\n",
      "8.0      0.00052      \u001b[38;2;200;50;50m3\u001b[0m      \u001b[38;2;100;100;200m13\u001b[0m\n",
      "12.0      0.00066      \u001b[38;2;200;50;50m7\u001b[0m      \u001b[38;2;100;100;200m14\u001b[0m\n",
      "16.0      0.00064      \u001b[38;2;200;50;50m17\u001b[0m      \u001b[38;2;100;100;200m16\u001b[0m\n",
      "20.0      0.00088      \u001b[38;2;200;50;50m11\u001b[0m      \u001b[38;2;100;100;200m23\u001b[0m\n",
      "24.0      0.0009      \u001b[38;2;200;50;50m10\u001b[0m      \u001b[38;2;100;100;200m11\u001b[0m\n",
      "28.0      0.00092      \u001b[38;2;200;50;50m12\u001b[0m      \u001b[38;2;100;100;200m13\u001b[0m\n",
      "32.0      0.0009      \u001b[38;2;200;50;50m19\u001b[0m      \u001b[38;2;100;100;200m18\u001b[0m\n",
      "36.0      0.00096      \u001b[38;2;200;50;50m13\u001b[0m      \u001b[38;2;100;100;200m16\u001b[0m\n",
      "40.0      0.0009      \u001b[38;2;200;50;50m15\u001b[0m      \u001b[38;2;100;100;200m12\u001b[0m\n",
      "44.0      0.00098      \u001b[38;2;200;50;50m11\u001b[0m      \u001b[38;2;100;100;200m15\u001b[0m\n",
      "48.0      0.00094      \u001b[38;2;200;50;50m18\u001b[0m      \u001b[38;2;100;100;200m16\u001b[0m\n",
      "52.0      0.0009      \u001b[38;2;200;50;50m15\u001b[0m      \u001b[38;2;100;100;200m13\u001b[0m\n",
      "56.0      0.00086      \u001b[38;2;200;50;50m15\u001b[0m      \u001b[38;2;100;100;200m13\u001b[0m\n",
      "60.0      0.00108      \u001b[38;2;200;50;50m6\u001b[0m      \u001b[38;2;100;100;200m17\u001b[0m\n",
      "64.0      0.00102      \u001b[38;2;200;50;50m18\u001b[0m      \u001b[38;2;100;100;200m15\u001b[0m\n",
      "68.0      0.0008      \u001b[38;2;200;50;50m21\u001b[0m      \u001b[38;2;100;100;200m10\u001b[0m\n",
      "72.0      0.00096      \u001b[38;2;200;50;50m10\u001b[0m      \u001b[38;2;100;100;200m18\u001b[0m\n",
      "76.0      0.0011      \u001b[38;2;200;50;50m10\u001b[0m      \u001b[38;2;100;100;200m17\u001b[0m\n",
      "80.0      0.00114      \u001b[38;2;200;50;50m13\u001b[0m      \u001b[38;2;100;100;200m15\u001b[0m\n",
      "84.0      0.00114      \u001b[38;2;200;50;50m18\u001b[0m      \u001b[38;2;100;100;200m18\u001b[0m\n",
      "88.0      0.0011      \u001b[38;2;200;50;50m16\u001b[0m      \u001b[38;2;100;100;200m14\u001b[0m\n",
      "92.0      0.00106      \u001b[38;2;200;50;50m14\u001b[0m      \u001b[38;2;100;100;200m12\u001b[0m\n",
      "96.0      0.00098      \u001b[38;2;200;50;50m15\u001b[0m      \u001b[38;2;100;100;200m11\u001b[0m\n",
      "100.0      0.00108      \u001b[38;2;200;50;50m11\u001b[0m      \u001b[38;2;100;100;200m16\u001b[0m\n",
      "BND: 108\n",
      "QRK: 99892\n",
      "TOT 100000\n",
      "t:       Nhid:                    Dis:    Rec:      \n",
      "BND: 2\n",
      "QRK: 99996\n",
      "TOT 99998\n",
      "4.0      0.00028      \u001b[38;2;200;50;50m0\u001b[0m      \u001b[38;2;100;100;200m13\u001b[0m\n",
      "8.0      0.00046      \u001b[38;2;200;50;50m1\u001b[0m      \u001b[38;2;100;100;200m10\u001b[0m\n",
      "12.0      0.00072      \u001b[38;2;200;50;50m6\u001b[0m      \u001b[38;2;100;100;200m19\u001b[0m\n",
      "16.0      0.00078      \u001b[38;2;200;50;50m14\u001b[0m      \u001b[38;2;100;100;200m17\u001b[0m\n",
      "20.0      0.00078      \u001b[38;2;200;50;50m14\u001b[0m      \u001b[38;2;100;100;200m14\u001b[0m\n",
      "24.0      0.00096      \u001b[38;2;200;50;50m7\u001b[0m      \u001b[38;2;100;100;200m16\u001b[0m\n",
      "28.0      0.00098      \u001b[38;2;200;50;50m14\u001b[0m      \u001b[38;2;100;100;200m15\u001b[0m\n",
      "32.0      0.00106      \u001b[38;2;200;50;50m10\u001b[0m      \u001b[38;2;100;100;200m14\u001b[0m\n",
      "36.0      0.00114      \u001b[38;2;200;50;50m12\u001b[0m      \u001b[38;2;100;100;200m16\u001b[0m\n",
      "40.0      0.00114      \u001b[38;2;200;50;50m12\u001b[0m      \u001b[38;2;100;100;200m12\u001b[0m\n",
      "44.0      0.00106      \u001b[38;2;200;50;50m14\u001b[0m      \u001b[38;2;100;100;200m10\u001b[0m\n",
      "48.0      0.0012      \u001b[38;2;200;50;50m14\u001b[0m      \u001b[38;2;100;100;200m21\u001b[0m\n",
      "52.0      0.00124      \u001b[38;2;200;50;50m14\u001b[0m      \u001b[38;2;100;100;200m16\u001b[0m\n",
      "56.0      0.00126      \u001b[38;2;200;50;50m14\u001b[0m      \u001b[38;2;100;100;200m15\u001b[0m\n",
      "60.0      0.00112      \u001b[38;2;200;50;50m20\u001b[0m      \u001b[38;2;100;100;200m13\u001b[0m\n",
      "64.0      0.00112      \u001b[38;2;200;50;50m13\u001b[0m      \u001b[38;2;100;100;200m13\u001b[0m\n",
      "68.0      0.00114      \u001b[38;2;200;50;50m11\u001b[0m      \u001b[38;2;100;100;200m12\u001b[0m\n",
      "72.0      0.00118      \u001b[38;2;200;50;50m19\u001b[0m      \u001b[38;2;100;100;200m21\u001b[0m\n",
      "76.0      0.00108      \u001b[38;2;200;50;50m17\u001b[0m      \u001b[38;2;100;100;200m12\u001b[0m\n",
      "80.0      0.001      \u001b[38;2;200;50;50m20\u001b[0m      \u001b[38;2;100;100;200m16\u001b[0m\n",
      "84.0      0.00102      \u001b[38;2;200;50;50m13\u001b[0m      \u001b[38;2;100;100;200m14\u001b[0m\n",
      "88.0      0.00098      \u001b[38;2;200;50;50m12\u001b[0m      \u001b[38;2;100;100;200m10\u001b[0m\n",
      "92.0      0.00096      \u001b[38;2;200;50;50m13\u001b[0m      \u001b[38;2;100;100;200m12\u001b[0m\n",
      "96.0      0.00096      \u001b[38;2;200;50;50m18\u001b[0m      \u001b[38;2;100;100;200m18\u001b[0m\n",
      "100.0      0.00108      \u001b[38;2;200;50;50m9\u001b[0m      \u001b[38;2;100;100;200m15\u001b[0m\n",
      "BND: 108\n",
      "QRK: 99890\n",
      "TOT 99998\n",
      "t:       Nhid:                    Dis:    Rec:      \n",
      "BND: 2\n",
      "QRK: 99998\n",
      "TOT 100000\n",
      "4.0      0.00034      \u001b[38;2;200;50;50m1\u001b[0m      \u001b[38;2;100;100;200m17\u001b[0m\n",
      "8.0      0.0006      \u001b[38;2;200;50;50m6\u001b[0m      \u001b[38;2;100;100;200m19\u001b[0m\n",
      "12.0      0.00062      \u001b[38;2;200;50;50m7\u001b[0m      \u001b[38;2;100;100;200m8\u001b[0m\n",
      "16.0      0.00072      \u001b[38;2;200;50;50m6\u001b[0m      \u001b[38;2;100;100;200m11\u001b[0m\n",
      "20.0      0.00088      \u001b[38;2;200;50;50m8\u001b[0m      \u001b[38;2;100;100;200m16\u001b[0m\n",
      "24.0      0.00092      \u001b[38;2;200;50;50m12\u001b[0m      \u001b[38;2;100;100;200m14\u001b[0m\n",
      "28.0      0.00096      \u001b[38;2;200;50;50m12\u001b[0m      \u001b[38;2;100;100;200m14\u001b[0m\n",
      "32.0      0.00106      \u001b[38;2;200;50;50m19\u001b[0m      \u001b[38;2;100;100;200m24\u001b[0m\n",
      "36.0      0.00102      \u001b[38;2;200;50;50m13\u001b[0m      \u001b[38;2;100;100;200m11\u001b[0m\n",
      "40.0      0.00112      \u001b[38;2;200;50;50m10\u001b[0m      \u001b[38;2;100;100;200m15\u001b[0m\n",
      "44.0      0.00118      \u001b[38;2;200;50;50m9\u001b[0m      \u001b[38;2;100;100;200m12\u001b[0m\n",
      "48.0      0.00112      \u001b[38;2;200;50;50m12\u001b[0m      \u001b[38;2;100;100;200m9\u001b[0m\n",
      "52.0      0.00104      \u001b[38;2;200;50;50m16\u001b[0m      \u001b[38;2;100;100;200m12\u001b[0m\n",
      "56.0      0.00108      \u001b[38;2;200;50;50m15\u001b[0m      \u001b[38;2;100;100;200m17\u001b[0m\n",
      "60.0      0.0012      \u001b[38;2;200;50;50m12\u001b[0m      \u001b[38;2;100;100;200m18\u001b[0m\n",
      "64.0      0.00108      \u001b[38;2;200;50;50m19\u001b[0m      \u001b[38;2;100;100;200m13\u001b[0m\n",
      "68.0      0.00114      \u001b[38;2;200;50;50m15\u001b[0m      \u001b[38;2;100;100;200m18\u001b[0m\n",
      "72.0      0.00106      \u001b[38;2;200;50;50m14\u001b[0m      \u001b[38;2;100;100;200m10\u001b[0m\n",
      "76.0      0.00124      \u001b[38;2;200;50;50m10\u001b[0m      \u001b[38;2;100;100;200m19\u001b[0m\n",
      "80.0      0.00112      \u001b[38;2;200;50;50m21\u001b[0m      \u001b[38;2;100;100;200m15\u001b[0m\n",
      "84.0      0.00118      \u001b[38;2;200;50;50m12\u001b[0m      \u001b[38;2;100;100;200m15\u001b[0m\n",
      "88.0      0.00112      \u001b[38;2;200;50;50m18\u001b[0m      \u001b[38;2;100;100;200m15\u001b[0m\n",
      "92.0      0.0011      \u001b[38;2;200;50;50m15\u001b[0m      \u001b[38;2;100;100;200m14\u001b[0m\n",
      "96.0      0.00114      \u001b[38;2;200;50;50m14\u001b[0m      \u001b[38;2;100;100;200m16\u001b[0m\n",
      "100.0      0.0012      \u001b[38;2;200;50;50m13\u001b[0m      \u001b[38;2;100;100;200m16\u001b[0m\n",
      "BND: 120\n",
      "QRK: 99880\n",
      "TOT 100000\n",
      "nonrel-Nhid/Ntot: 0.001730484230463492\n",
      "rel-Nhid/Ntot: 0.0014666271038068232\n",
      "nonrel-Nhid/Ntot: 0.001730484230463492\n",
      "rel-Nhid/Ntot: 0.0014666271038068232\n"
     ]
    },
    {
     "data": {
      "image/png": "[encoded data removed]",
      "text/plain": [
       "<Figure size 864x576 with 1 Axes>"
      ]
     },
     "metadata": {
      "needs_background": "light"
     },
     "output_type": "display_data"
    }
   ],
   "source": [
    "conf['ChannelList'] = ['RGA','RGR','IDQ','IRQ','IDG','IRG']\n",
    "\n",
    "doConfigCalc(conf)\n",
    "\n",
    "aR = []\n",
    "for i in range(3):\n",
    "    aR.append(runBox())\n",
    "    \n",
    "avgA = np.mean(np.array(aR)[:,:,1],axis = 0)\n",
    "\n"
   ]
  },
  {
   "cell_type": "code",
   "execution_count": 12,
   "id": "close-campus",
   "metadata": {},
   "outputs": [
    {
     "name": "stdout",
     "output_type": "stream",
     "text": [
      "nonrel-Nhid/Ntot: 0.001730484230463492\n",
      "rel-Nhid/Ntot: 0.0014666271038068232\n"
     ]
    },
    {
     "data": {
      "image/png": "[encoded data removed]",
      "text/plain": [
       "<Figure size 864x576 with 1 Axes>"
      ]
     },
     "metadata": {
      "needs_background": "light"
     },
     "output_type": "display_data"
    }
   ],
   "source": [
    "plt.figure(figsize=(12, 8))\n",
    "plt.plot(bR[0][:,0],avgA)\n",
    "#plt.axhline(y=calcClassExpec(conf), color='r', linestyle='--', label='Non-relativistic')\n",
    "#plt.axhline(y=calcRelExpec2(conf), color='g', linestyle='--', label='Relativistic')\n",
    "\n",
    "#RGexp = runExp2(conf, pPts, [conf['RGA_rate1S']], [conf['RGR_rateFv1S']], '1S')\n",
    "#IQexp = runExp2(conf, pPts, [conf['IDQ_rate1S']], [conf['IRQ_rateFv1S']], '1S')\n",
    "#IGexp = runExp2(conf, pPts, [conf['IDG_rate1S']], [conf['IRG_rateFv1S']], '1S')\n",
    "totexp = runExp2(conf, pPts, [conf['RGA_rate1S'],conf['IDQ_rate1S'],conf['IDG_rate1S']], [conf['RGR_rateFv1S'],conf['IRQ_rateFv1S'],conf['IRG_rateFv1S']], '1S')\n",
    "\n",
    "\n",
    "#tPts = gettauPts(conf)\n",
    "#plt.plot(RGexp[:,0]*hbarc, RGexp[:,1], color=col1, label='Real gluon')\n",
    "#plt.plot(IQexp[:,0], IQexp[:,1], color=col2, label='Inelastic scatting w/ light quarks')\n",
    "#plt.plot(IGexp[:,0], IGexp[:,1], color=col3, label='Inelastic scatting w/ gluons')\n",
    "plt.plot(totexp[:,0], totexp[:,1], color='k', label='Combined')\n",
    "plt.axhline(y=calcClassExpec(conf), color='r', linestyle='--', label='Non-relativistic')\n",
    "plt.axhline(y=calcRelExpec2(conf), color='g', linestyle='--', label='Relativistic')\n",
    "\n",
    "plt.xlabel('τ [GeV]',fontsize=14)\n",
    "plt.ylabel('N_hid/N_tot',fontsize=14)\n",
    "plt.yscale('log')\n",
    "plt.legend()\n",
    "plt.show()"
   ]
  },
  {
   "cell_type": "code",
   "execution_count": null,
   "id": "cheap-hopkins",
   "metadata": {},
   "outputs": [],
   "source": []
  }
 ],
 "metadata": {
  "kernelspec": {
   "display_name": "Python 3",
   "language": "python",
   "name": "python3"
  },
  "language_info": {
   "codemirror_mode": {
    "name": "ipython",
    "version": 3
   },
   "file_extension": ".py",
   "mimetype": "text/x-python",
   "name": "python",
   "nbconvert_exporter": "python",
   "pygments_lexer": "ipython3",
   "version": "3.7.9"
  }
 },
 "nbformat": 4,
 "nbformat_minor": 5
}
