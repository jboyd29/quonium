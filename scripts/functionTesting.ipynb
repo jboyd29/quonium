{
 "cells": [
  {
   "cell_type": "code",
   "execution_count": 1,
   "id": "metallic-interstate",
   "metadata": {},
   "outputs": [],
   "source": [
    "import numpy as np\n",
    "import sys\n",
    "import os\n",
    "import time\n",
    "\n",
    "from scipy.integrate import quad\n",
    "from scipy.interpolate import CubicSpline\n",
    "from scipy.interpolate import RegularGridInterpolator\n",
    "from scipy.optimize import fmin\n",
    "from scipy.interpolate import interp1d\n",
    "\n",
    "import matplotlib.pyplot as plt"
   ]
  },
  {
   "cell_type": "code",
   "execution_count": 2,
   "id": "outer-determination",
   "metadata": {},
   "outputs": [],
   "source": [
    "sys.path.append('/home/jacob/projects/quonium/python')\n",
    "from config import colr\n",
    "from config import config\n",
    "from interpolations import RGRsum\n",
    "from interpolations import RGRsum2"
   ]
  },
  {
   "cell_type": "code",
   "execution_count": 8,
   "id": "happy-implementation",
   "metadata": {},
   "outputs": [
    {
     "name": "stdout",
     "output_type": "stream",
     "text": [
      "\u001b[38;2;0;255;255mjshdgf\u001b[0m\n"
     ]
    }
   ],
   "source": [
    "print(colr('jshdgf',(0,255,255)))"
   ]
  },
  {
   "cell_type": "code",
   "execution_count": 9,
   "id": "appropriate-rhythm",
   "metadata": {},
   "outputs": [],
   "source": [
    "### Baseline for interpolation speed"
   ]
  },
  {
   "cell_type": "code",
   "execution_count": 13,
   "id": "adolescent-hobby",
   "metadata": {},
   "outputs": [
    {
     "name": "stdout",
     "output_type": "stream",
     "text": [
      "R: 20\n",
      "R: 30\n",
      "R: 40\n",
      "R: 50\n",
      "R: 60\n",
      "R: 70\n",
      "R: 80\n",
      "R: 90\n",
      "R: 100\n",
      "R: 110\n",
      "R: 120\n",
      "R: 130\n",
      "R: 140\n",
      "R: 150\n",
      "R: 160\n",
      "R: 170\n",
      "R: 180\n",
      "R: 190\n"
     ]
    },
    {
     "data": {
      "image/png": "[encoded data removed]",
      "text/plain": [
       "<Figure size 432x288 with 1 Axes>"
      ]
     },
     "metadata": {
      "needs_background": "light"
     },
     "output_type": "display_data"
    }
   ],
   "source": [
    "def SF1(x):\n",
    "    return np.sin(x)\n",
    "def SF2(x, y):\n",
    "    return np.sin(x) + np.sin(y)\n",
    "def SF3(x, y, z):\n",
    "    return np.sin(x) + np.sin(y) + np.sin(z)\n",
    "def SF4(x, y, z, z4):\n",
    "    return np.sin(x) + np.sin(y) + np.sin(z) + np.sin(z4)\n",
    "\n",
    "\n",
    "### Interpolation time\n",
    "Nps = []\n",
    "times = []\n",
    "SampSize = 1000\n",
    "SmC = 30\n",
    "TS = [[],[],[],[]]\n",
    "\n",
    "for i in range(20,200,10):\n",
    "    print(\"R:\",i)\n",
    "    x = np.linspace(0,1,i)\n",
    "# ND = 1\n",
    "    data1 = SF1(x)\n",
    "    i1 = interp1d(x, data1, kind='linear', fill_value='extrapolate') #Interpolation\n",
    "    r1 = np.random.random(SampSize) # Random points in ND-D space\n",
    "# ND = 2\n",
    "    data2 = SF2(x[:,None],x[None,:])\n",
    "    i2 = RegularGridInterpolator((x, x), data2, method='linear', bounds_error=False, fill_value=None)\n",
    "    r2 = np.array([np.random.random(SampSize) for j in range(2)])\n",
    "# ND = 3\n",
    "    data3 = SF3(x[:,None,None],x[None,:,None],x[None,None,:])\n",
    "    i3 = RegularGridInterpolator((x, x, x), data3, method='linear', bounds_error=False, fill_value=None)\n",
    "    r3 = np.array([np.random.random(SampSize) for j in range(3)])\n",
    "# ND = 4\n",
    "    data4 = SF4(x[:,None,None,None],x[None,:,None,None],x[None,None,:,None],x[None,None,None,:])\n",
    "    i4 = RegularGridInterpolator((x, x, x, x), data4, method='linear', bounds_error=False, fill_value=None)\n",
    "    r4 = np.array([np.random.random(SampSize) for j in range(4)])\n",
    "\n",
    "    w = 0\n",
    "    Nps.append(i)\n",
    "    for pair in ([i1,r1],[i2,r2],[i3,r3],[i4,r4]):\n",
    "        t1 = time.time()\n",
    "        for k in range(SmC):\n",
    "            result = pair[0](pair[1].T)\n",
    "        t2 = time.time()\n",
    "        TS[w].append((t2-t1)/SmC)\n",
    "        w = w+1\n",
    "\n",
    "### Direct evaluation time\n",
    "\n",
    "conf = config()\n",
    "conf['StateList'] = ['1S']\n",
    "Tx = np.random.random(SampSize)\n",
    "t3 = time.time()\n",
    "SmN = 1000\n",
    "for i in range(SmN):\n",
    "    result = RGRsum(Tx,Tx,conf,'1S')\n",
    "t4 = time.time()\n",
    "DEt = np.ones(len(Nps))*(t4 - t3)/SmN\n",
    "\n",
    "t5 = time.time()\n",
    "for i in range(SmN):\n",
    "    result = RGRsum2(Tx,Tx,Tx,conf,'1S')\n",
    "t6 = time.time()\n",
    "DEt2 = np.ones(len(Nps))*(t6 - t5)/SmN\n",
    "    \n",
    "\n",
    "X = np.array(Nps)\n",
    "Y1 = np.array(TS[0])\n",
    "Y2 = np.array(TS[1])\n",
    "Y3 = np.array(TS[2])\n",
    "Y4 = np.array(TS[3])\n",
    "plt.semilogx(X, Y1, label='ND=1')\n",
    "plt.semilogx(X, Y2, label='ND=2')\n",
    "plt.semilogx(X, Y3, label='ND=3')\n",
    "plt.semilogx(X, Y4, label='ND=4')\n",
    "plt.semilogx(X, DEt, label='RGRSum', linestyle='-', color='black')\n",
    "plt.semilogx(X, DEt2, label='RGRSum2', linestyle='--', color='pink')\n",
    "plt.xlabel('NPts')\n",
    "plt.ylabel('t [s]')\n",
    "plt.title('time to eval SampSize long vector on NPts in ND')\n",
    "plt.legend()\n",
    "plt.show()"
   ]
  },
  {
   "cell_type": "code",
   "execution_count": null,
   "id": "announced-marsh",
   "metadata": {},
   "outputs": [],
   "source": [
    "def OvLp(conf, q , state):\n",
    "    pr = np.sqrt(conf['M'+state]*(q-conf['E'+state]))\n",
    "    eta = conf['alphaS']*conf['M'+state]/(4*conf['NC']*pr)\n",
    "    aB = 2/(conf['alphaS']*conf['CF']*conf['M'+state]) \n",
    "    if state == '1S':\n",
    "        return ( ((2**9)*(np.pi**2)*(eta)*(np.power(aB,7))*(np.power(pr,2))*(1+np.power(eta,2))*np.power(2+eta*aB*pr,2))  /  ((np.power(1+(aB**2)*np.power(pr,2),6))*(np.exp(2*np.pi*eta)-1)) ) * np.exp(4*eta*np.arctan(aB*pr))\n",
    "\n",
    "    elif state == '2S':\n",
    "        return 0"
   ]
  },
  {
   "cell_type": "code",
   "execution_count": 5,
   "id": "devoted-spoke",
   "metadata": {},
   "outputs": [
    {
     "data": {
      "text/plain": [
       "1267650600228229401496703205376"
      ]
     },
     "execution_count": 5,
     "metadata": {},
     "output_type": "execute_result"
    }
   ],
   "source": [
    "2**100"
   ]
  },
  {
   "cell_type": "code",
   "execution_count": 7,
   "id": "measured-syndication",
   "metadata": {},
   "outputs": [
    {
     "name": "stdout",
     "output_type": "stream",
     "text": [
      "Numerical integration result: 1.0\n",
      "Error estimate: 2.5808878251226036e-14\n"
     ]
    }
   ],
   "source": [
    "from scipy import integrate\n",
    "\n",
    "# Define the function to be integrated\n",
    "def integrand(x, y, z):\n",
    "    return x**2 + y**2 + z**2  # Replace with your actual function\n",
    "\n",
    "# Specify the integration limits for each variable\n",
    "x_limits = [0, 1]\n",
    "y_limits = [0, 1]\n",
    "z_limits = [0, 1]\n",
    "\n",
    "# Perform the numerical integration\n",
    "result, error = integrate.nquad(integrand, [x_limits, y_limits, z_limits])\n",
    "\n",
    "# Print the result\n",
    "print(\"Numerical integration result:\", result)\n",
    "print(\"Error estimate:\", error)"
   ]
  },
  {
   "cell_type": "code",
   "execution_count": null,
   "id": "embedded-enforcement",
   "metadata": {},
   "outputs": [],
   "source": [
    "def RBdist(px, py, pz, M, T):\n",
    "    return np.exp(-np.sqrt(np.power(M,2) + np.power(px,2) + np.power(py,2) + np.power(pz,2))/T)\n",
    "\n",
    "def RBdistMag(p, M, T):\n",
    "    return np.exp(-np.sqrt(np.power(M,2) + np.power(p,2))/T)\n",
    "\n",
    "def getMomDist(conf, st):\n",
    "    res, error = nquad(RBdistMag, [0,100], args=(conf['M'+st],conf['T']))\n",
    "    Nconst = np.power(2*np.pi,3)/res\n",
    "def rejSRB(M,T):\n",
    "    while reSamp == False:\n",
    "        samp = np.random.normal(0,M*T)\n",
    "        r = np.random.random()\n",
    "        if samp < np.random.random()"
   ]
  },
  {
   "cell_type": "code",
   "execution_count": 3,
   "id": "forty-composer",
   "metadata": {},
   "outputs": [
    {
     "data": {
      "text/plain": [
       "0.272578514613245"
      ]
     },
     "execution_count": 3,
     "metadata": {},
     "output_type": "execute_result"
    }
   ],
   "source": [
    "np.random.random()"
   ]
  },
  {
   "cell_type": "code",
   "execution_count": null,
   "id": "average-flashing",
   "metadata": {},
   "outputs": [],
   "source": []
  }
 ],
 "metadata": {
  "kernelspec": {
   "display_name": "Python 3",
   "language": "python",
   "name": "python3"
  },
  "language_info": {
   "codemirror_mode": {
    "name": "ipython",
    "version": 3
   },
   "file_extension": ".py",
   "mimetype": "text/x-python",
   "name": "python",
   "nbconvert_exporter": "python",
   "pygments_lexer": "ipython3",
   "version": "3.7.9"
  }
 },
 "nbformat": 4,
 "nbformat_minor": 5
}
